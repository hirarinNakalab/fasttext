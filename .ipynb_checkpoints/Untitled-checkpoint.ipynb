{
 "cells": [
  {
   "cell_type": "code",
   "execution_count": 9,
   "metadata": {
    "scrolled": true
   },
   "outputs": [
    {
     "name": "stdout",
     "output_type": "stream",
     "text": [
      "./threeclass/valid/high/sample_K.txt\n",
      "./threeclass/valid/high/sample_B.txt\n",
      "./threeclass/valid/high/sample_L.txt\n",
      "./threeclass/valid/low/sample_G.txt\n",
      "./threeclass/valid/low/sample_H.txt\n",
      "./threeclass/valid/low/sample_I.txt\n",
      "./threeclass/valid/mid/sample_J.txt\n",
      "./threeclass/valid/mid/sample_A.txt\n",
      "./threeclass/valid/mid/sample_C.txt\n"
     ]
    }
   ],
   "source": [
    "exec(open('./calcProbability.py').read())"
   ]
  },
  {
   "cell_type": "code",
   "execution_count": 8,
   "metadata": {},
   "outputs": [],
   "source": [
    "exec(open('./fileConcat.py').read())"
   ]
  },
  {
   "cell_type": "code",
   "execution_count": 10,
   "metadata": {
    "scrolled": true
   },
   "outputs": [
    {
     "name": "stdout",
     "output_type": "stream",
     "text": [
      "('./threeclass/valid/high/sample_K.txt', 0, 3.25, 0, 0)\n",
      "('./threeclass/valid/high/sample_B.txt', 0, 3.75, 0, 0)\n",
      "('./threeclass/valid/high/sample_L.txt', 0, 2.75, 0, 0)\n",
      "('./threeclass/valid/low/sample_G.txt', 0, 3.75, 0, 0)\n",
      "('./threeclass/valid/low/sample_H.txt', 0, 2.75, 0, 0)\n",
      "('./threeclass/valid/low/sample_I.txt', 0, 3.5, 0, 0)\n",
      "('./threeclass/valid/mid/sample_J.txt', 0, 3.25, 0, 0)\n",
      "('./threeclass/valid/mid/sample_A.txt', 0, 3.75, 0, 0)\n",
      "('./threeclass/valid/mid/sample_C.txt', 0, 4.0, 0, 0)\n"
     ]
    }
   ],
   "source": [
    "for i in range(len(sentences)):\n",
    "    print(sentences[i])"
   ]
  },
  {
   "cell_type": "code",
   "execution_count": 2,
   "metadata": {
    "scrolled": true
   },
   "outputs": [
    {
     "name": "stdout",
     "output_type": "stream",
     "text": [
      "[ 5.91992200e+00  5.64257900e+00  5.52148400e+00  3.61719000e+00\n",
      "  2.67968500e+00  2.58789000e+00  1.62890700e+00 -3.02732000e-01\n",
      " -3.71093800e+00 -4.48869178e+02 -4.83978564e+02 -5.78720755e+02\n",
      " -5.89662165e+02 -5.99634813e+02 -6.00748106e+02 -6.72052796e+02\n",
      " -6.73214905e+02 -6.76453189e+02 -6.94193423e+02 -7.09679753e+02\n",
      " -7.41054756e+02 -7.54013749e+02 -7.82634835e+02 -7.85406319e+02\n",
      " -7.88234449e+02 -7.94173899e+02 -7.94767650e+02 -8.49007881e+02\n",
      " -9.07400470e+02 -9.07816499e+02 -9.14732502e+02 -9.36339939e+02\n",
      " -9.99865329e+02 -1.03481064e+03 -1.04767783e+03 -1.08282432e+03\n",
      " -1.08570909e+03 -1.11309581e+03 -1.16481066e+03 -1.32429114e+03\n",
      " -1.37830482e+03 -1.37854701e+03 -1.44433411e+03 -1.47846304e+03\n",
      " -1.48355482e+03 -1.56551381e+03 -1.63900016e+03 -2.46398851e+03]\n"
     ]
    }
   ],
   "source": [
    "import numpy as np\n",
    "import matplotlib\n",
    "import csv\n",
    "matplotlib.use('Agg')\n",
    "import matplotlib.pyplot as plt\n",
    "from sklearn import metrics\n",
    "\n",
    "\n",
    "labels = []\n",
    "values = []\n",
    "for i in range(len(sentences)):\n",
    "    \n",
    "    values.append(sentences[i][1] - sentences[i][2])\n",
    "    if 'data'in sentences[i][0]:\n",
    "        label = 1\n",
    "        labels.append(label)\n",
    "    else:\n",
    "        label = 2\n",
    "        labels.append(label)\n",
    "\n",
    "y = np.array(labels)        \n",
    "scores = np.array(values)\n",
    "\n",
    "fpr, tpr, thresholds = metrics.roc_curve(y, scores, pos_label=2, drop_intermediate=False)\n",
    "auc = metrics.auc(fpr, tpr)\n",
    "print(thresholds)\n",
    "\n",
    "plt.plot(fpr, tpr, label='fastText (area = %.2f)' %auc)\n",
    "plt.legend()\n",
    "plt.title('Sales Visit - Receiver Operating Characteristic')\n",
    "plt.xlabel('False Positive Rate')\n",
    "plt.ylabel('True Positive Rate')\n",
    "plt.grid(True)\n",
    "plt.plot([0, 1], [0, 1], linestyle='--', lw=2, color='r', label='Luck', alpha=.8)\n",
    "plt.savefig('roc.png')\n",
    "\n",
    "# with open('./out.csv', \"w\") as wf:\n",
    "#     writer = csv.writer(wf)\n",
    "#     for i in range(len(y)):\n",
    "#         writer.writerow([y[i], scores[i]])\n",
    "        "
   ]
  },
  {
   "cell_type": "code",
   "execution_count": null,
   "metadata": {
    "scrolled": true
   },
   "outputs": [],
   "source": []
  },
  {
   "cell_type": "code",
   "execution_count": null,
   "metadata": {},
   "outputs": [],
   "source": []
  },
  {
   "cell_type": "code",
   "execution_count": null,
   "metadata": {},
   "outputs": [],
   "source": []
  },
  {
   "cell_type": "code",
   "execution_count": null,
   "metadata": {},
   "outputs": [],
   "source": []
  }
 ],
 "metadata": {
  "kernelspec": {
   "display_name": "Python 3",
   "language": "python",
   "name": "python3"
  },
  "language_info": {
   "codemirror_mode": {
    "name": "ipython",
    "version": 3
   },
   "file_extension": ".py",
   "mimetype": "text/x-python",
   "name": "python",
   "nbconvert_exporter": "python",
   "pygments_lexer": "ipython3",
   "version": "3.6.4"
  }
 },
 "nbformat": 4,
 "nbformat_minor": 2
}
