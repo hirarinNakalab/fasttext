{
 "cells": [
  {
   "cell_type": "code",
   "execution_count": 7,
   "metadata": {
    "scrolled": true
   },
   "outputs": [
    {
     "name": "stdout",
     "output_type": "stream",
     "text": [
      "./multiclass/valid/daily/data120.txt\n",
      "./multiclass/valid/daily/data103.txt\n",
      "./multiclass/valid/daily/data127.txt\n",
      "./multiclass/valid/daily/data102.txt\n",
      "./multiclass/valid/daily/data113.txt\n",
      "./multiclass/valid/daily/data114.txt\n",
      "./multiclass/valid/daily/data108.txt\n",
      "./multiclass/valid/daily/data126.txt\n",
      "./multiclass/valid/daily/data104.txt\n",
      "./multiclass/valid/daily/data121.txt\n",
      "./multiclass/valid/daily/data123.txt\n",
      "./multiclass/valid/daily/data110.txt\n",
      "./multiclass/valid/daily/data129.txt\n",
      "./multiclass/valid/daily/data107.txt\n",
      "./multiclass/valid/daily/data101.txt\n",
      "./multiclass/valid/daily/data122.txt\n",
      "./multiclass/valid/daily/data106.txt\n",
      "./multiclass/valid/daily/data128.txt\n",
      "./multiclass/valid/daily/data109.txt\n",
      "./multiclass/valid/daily/data119.txt\n",
      "./multiclass/valid/daily/data118.txt\n",
      "./multiclass/valid/daily/data125.txt\n",
      "./multiclass/valid/daily/data105.txt\n",
      "./multiclass/valid/daily/data116.txt\n",
      "./multiclass/valid/daily/data115.txt\n",
      "./multiclass/valid/daily/data124.txt\n",
      "./multiclass/valid/daily/data117.txt\n",
      "./multiclass/valid/daily/data112.txt\n",
      "./multiclass/valid/daily/data111.txt\n",
      "./multiclass/valid/high/sample_K.txt\n",
      "./multiclass/valid/high/sample_B.txt\n",
      "./multiclass/valid/high/sample_L.txt\n",
      "./multiclass/valid/low/sample_G.txt\n",
      "./multiclass/valid/low/sample_H.txt\n",
      "./multiclass/valid/low/sample_I.txt\n",
      "./multiclass/valid/mid/sample_J.txt\n",
      "./multiclass/valid/mid/sample_A.txt\n",
      "./multiclass/valid/mid/sample_C.txt\n"
     ]
    }
   ],
   "source": [
    "exec(open('./calcProbability.py').read())"
   ]
  },
  {
   "cell_type": "code",
   "execution_count": 5,
   "metadata": {},
   "outputs": [],
   "source": [
    "exec(open('./fileConcat.py').read())"
   ]
  },
  {
   "cell_type": "code",
   "execution_count": 10,
   "metadata": {
    "scrolled": true
   },
   "outputs": [
    {
     "name": "stdout",
     "output_type": "stream",
     "text": [
      "('./multiclass/valid/daily/data120.txt', 672.3418600000035, 0, 0, 0)\n",
      "('./multiclass/valid/daily/data103.txt', 2467.7619390000546, 0, 0, 0)\n",
      "('./multiclass/valid/daily/data127.txt', 909.8262580000106, 0, 0, 0.25)\n",
      "('./multiclass/valid/daily/data102.txt', 1000.191498000012, 0, 0, 0)\n",
      "('./multiclass/valid/daily/data113.txt', 1573.4923160000292, 0, 0, 0)\n",
      "('./multiclass/valid/daily/data114.txt', 796.0020290000059, 0, 0, 0)\n",
      "('./multiclass/valid/daily/data108.txt', 790.3711630000063, 0.328125, 0, 0)\n",
      "('./multiclass/valid/daily/data126.txt', 784.7012410000059, 0, 0, 0)\n",
      "('./multiclass/valid/daily/data104.txt', 1379.4259240000251, 0, 0, 0)\n",
      "('./multiclass/valid/daily/data121.txt', 484.12113999999906, 0, 0, 0)\n",
      "('./multiclass/valid/daily/data123.txt', 1640.3673350000329, 0, 0, 0)\n",
      "('./multiclass/valid/daily/data110.txt', 710.3223280000035, 0, 0, 0)\n",
      "('./multiclass/valid/daily/data129.txt', 600.3691900000015, 0, 0, 0)\n",
      "('./multiclass/valid/daily/data107.txt', 915.6875880000098, 0, 0, 0)\n",
      "('./multiclass/valid/daily/data101.txt', 741.789129000005, 0, 0, 0)\n",
      "('./multiclass/valid/daily/data122.txt', 673.6660720000041, 0, 0, 0)\n",
      "('./multiclass/valid/daily/data106.txt', 754.8086660000055, 0, 0, 0)\n",
      "('./multiclass/valid/daily/data128.txt', 789.3047670000072, 0, 0, 0)\n",
      "('./multiclass/valid/daily/data109.txt', 795.3321010000072, 0, 0, 0)\n",
      "('./multiclass/valid/daily/data119.txt', 1480.6153860000302, 0, 0, 0)\n",
      "('./multiclass/valid/daily/data118.txt', 1086.757923000014, 0, 0, 0)\n",
      "('./multiclass/valid/daily/data125.txt', 936.9688440000116, 0, 0, 0)\n",
      "('./multiclass/valid/daily/data105.txt', 909.2793810000103, 0, 0, 0)\n",
      "('./multiclass/valid/daily/data116.txt', 1378.9649660000239, 0, 0, 0)\n",
      "('./multiclass/valid/daily/data115.txt', 579.4785680000008, 0, 0, 0)\n",
      "('./multiclass/valid/daily/data124.txt', 601.6817010000015, 0, 0, 0)\n",
      "('./multiclass/valid/daily/data117.txt', 1113.781359000017, 0, 0, 0)\n",
      "('./multiclass/valid/daily/data112.txt', 1449.3868460000224, 0.369141, 0, 0)\n",
      "('./multiclass/valid/daily/data111.txt', 853.9043720000076, 0, 0, 0)\n",
      "('./multiclass/valid/high/sample_K.txt', 6.0546880000000005, 1.878906, 0, 0)\n",
      "('./multiclass/valid/high/sample_B.txt', 5.216799, 1.7695319999999999, 0, 0.513672)\n",
      "('./multiclass/valid/high/sample_L.txt', 2.746094, 2.183593, 0, 0)\n",
      "('./multiclass/valid/low/sample_G.txt', 6.99414, 1.3710939999999998, 0, 0)\n",
      "('./multiclass/valid/low/sample_H.txt', 4.642578, 1.066406, 0, 0)\n",
      "('./multiclass/valid/low/sample_I.txt', 6.611326999999999, 0.58789, 0, 0.251953)\n",
      "('./multiclass/valid/mid/sample_J.txt', 5.765624000000001, 1.269531, 0, 0)\n",
      "('./multiclass/valid/mid/sample_A.txt', 6.732422999999999, 1.271485, 0, 0.251953)\n",
      "('./multiclass/valid/mid/sample_C.txt', 10.113281, 0.302734, 0, 0.253906)\n"
     ]
    }
   ],
   "source": [
    "for i in range(len(sentences)):\n",
    "    print(sentences[i])"
   ]
  },
  {
   "cell_type": "code",
   "execution_count": 2,
   "metadata": {
    "scrolled": true
   },
   "outputs": [
    {
     "name": "stdout",
     "output_type": "stream",
     "text": [
      "[ 5.91992200e+00  5.64257900e+00  5.52148400e+00  3.61719000e+00\n",
      "  2.67968500e+00  2.58789000e+00  1.62890700e+00 -3.02732000e-01\n",
      " -3.71093800e+00 -4.48869178e+02 -4.83978564e+02 -5.78720755e+02\n",
      " -5.89662165e+02 -5.99634813e+02 -6.00748106e+02 -6.72052796e+02\n",
      " -6.73214905e+02 -6.76453189e+02 -6.94193423e+02 -7.09679753e+02\n",
      " -7.41054756e+02 -7.54013749e+02 -7.82634835e+02 -7.85406319e+02\n",
      " -7.88234449e+02 -7.94173899e+02 -7.94767650e+02 -8.49007881e+02\n",
      " -9.07400470e+02 -9.07816499e+02 -9.14732502e+02 -9.36339939e+02\n",
      " -9.99865329e+02 -1.03481064e+03 -1.04767783e+03 -1.08282432e+03\n",
      " -1.08570909e+03 -1.11309581e+03 -1.16481066e+03 -1.32429114e+03\n",
      " -1.37830482e+03 -1.37854701e+03 -1.44433411e+03 -1.47846304e+03\n",
      " -1.48355482e+03 -1.56551381e+03 -1.63900016e+03 -2.46398851e+03]\n"
     ]
    }
   ],
   "source": [
    "import numpy as np\n",
    "import matplotlib\n",
    "import csv\n",
    "matplotlib.use('Agg')\n",
    "import matplotlib.pyplot as plt\n",
    "from sklearn import metrics\n",
    "\n",
    "\n",
    "labels = []\n",
    "values = []\n",
    "for i in range(len(sentences)):\n",
    "    \n",
    "    values.append(sentences[i][1] - sentences[i][2])\n",
    "    if 'data'in sentences[i][0]:\n",
    "        label = 1\n",
    "        labels.append(label)\n",
    "    else:\n",
    "        label = 2\n",
    "        labels.append(label)\n",
    "\n",
    "y = np.array(labels)        \n",
    "scores = np.array(values)\n",
    "\n",
    "fpr, tpr, thresholds = metrics.roc_curve(y, scores, pos_label=2, drop_intermediate=False)\n",
    "auc = metrics.auc(fpr, tpr)\n",
    "print(thresholds)\n",
    "\n",
    "plt.plot(fpr, tpr, label='fastText (area = %.2f)' %auc)\n",
    "plt.legend()\n",
    "plt.title('Sales Visit - Receiver Operating Characteristic')\n",
    "plt.xlabel('False Positive Rate')\n",
    "plt.ylabel('True Positive Rate')\n",
    "plt.grid(True)\n",
    "plt.plot([0, 1], [0, 1], linestyle='--', lw=2, color='r', label='Luck', alpha=.8)\n",
    "plt.savefig('roc.png')\n",
    "\n",
    "with open('./out.csv', \"w\") as wf:\n",
    "    writer = csv.writer(wf)\n",
    "    for i in range(len(y)):\n",
    "        writer.writerow([y[i], scores[i]])\n",
    "        "
   ]
  },
  {
   "cell_type": "code",
   "execution_count": null,
   "metadata": {
    "scrolled": true
   },
   "outputs": [],
   "source": []
  },
  {
   "cell_type": "code",
   "execution_count": null,
   "metadata": {},
   "outputs": [],
   "source": []
  },
  {
   "cell_type": "code",
   "execution_count": null,
   "metadata": {},
   "outputs": [],
   "source": []
  },
  {
   "cell_type": "code",
   "execution_count": null,
   "metadata": {},
   "outputs": [],
   "source": []
  }
 ],
 "metadata": {
  "kernelspec": {
   "display_name": "Python 3",
   "language": "python",
   "name": "python3"
  },
  "language_info": {
   "codemirror_mode": {
    "name": "ipython",
    "version": 3
   },
   "file_extension": ".py",
   "mimetype": "text/x-python",
   "name": "python",
   "nbconvert_exporter": "python",
   "pygments_lexer": "ipython3",
   "version": "3.6.4"
  }
 },
 "nbformat": 4,
 "nbformat_minor": 2
}
